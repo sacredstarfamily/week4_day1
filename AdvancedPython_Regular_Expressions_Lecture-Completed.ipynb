{
 "cells": [
  {
   "cell_type": "markdown",
   "metadata": {},
   "source": [
    "# Regular Expressions"
   ]
  },
  {
   "cell_type": "markdown",
   "metadata": {},
   "source": [
    "# Tasks today:\n",
    "1) <b>Importing</b> <br>\n",
    "2) <b>Using Regular Expressions</b> <br>\n",
    " &nbsp;&nbsp;&nbsp;&nbsp; a) re.compile() <br>\n",
    " &nbsp;&nbsp;&nbsp;&nbsp; b) re.match() <br>\n",
    " &nbsp;&nbsp;&nbsp;&nbsp; c) re.findall() <br>\n",
    " &nbsp;&nbsp;&nbsp;&nbsp; d) re.search() <br>\n",
    "3) <b>Sets</b> <br>\n",
    " &nbsp;&nbsp;&nbsp;&nbsp; a) Integer Ranges <br>\n",
    " &nbsp;&nbsp;&nbsp;&nbsp; b) Character Ranges <br>\n",
    "4) <b>Counting Occurences</b> <br>\n",
    " &nbsp;&nbsp;&nbsp;&nbsp; a) {x} <br>\n",
    " &nbsp;&nbsp;&nbsp;&nbsp; b) {, x} <br>\n",
    " &nbsp;&nbsp;&nbsp;&nbsp; c) {?} <br>\n",
    " &nbsp;&nbsp;&nbsp;&nbsp; d) {*} <br>\n",
    " &nbsp;&nbsp;&nbsp;&nbsp; e) {+} <br>\n",
    "5) <b>In-Class Exercise #1</b> <br>\n",
    "6) <b>Escaping Characters</b> <br>\n",
    "7) <b>Grouping</b> <br>\n",
    "8) <b>In-Class Exercise #2</b> <br>\n",
    "9) <b>Opening a File</b> <br>\n",
    " &nbsp;&nbsp;&nbsp;&nbsp; a) open() <br>\n",
    " &nbsp;&nbsp;&nbsp;&nbsp; b) with open() <br>\n",
    " &nbsp;&nbsp;&nbsp;&nbsp; c) re.match() <br>\n",
    " &nbsp;&nbsp;&nbsp;&nbsp; d) re.search() <br>\n",
    " &nbsp;&nbsp;&nbsp;&nbsp; e) Store the String in a Variable <br>\n",
    "10) <b>Regex Project</b> <br>"
   ]
  },
  {
   "cell_type": "markdown",
   "metadata": {},
   "source": [
    "### Importing <br>\n",
    "<p>Regular Expressions are universal throughout most programming languages... They are generally imported through the module 're'.</p>"
   ]
  },
  {
   "cell_type": "code",
   "execution_count": 1,
   "metadata": {},
   "outputs": [],
   "source": [
    "import re"
   ]
  },
  {
   "cell_type": "code",
   "execution_count": 2,
   "metadata": {},
   "outputs": [
    {
     "name": "stdout",
     "output_type": "stream",
     "text": [
      "<module 're' from 'C:\\\\Users\\\\bstan\\\\anaconda3\\\\lib\\\\re.py'>\n"
     ]
    },
    {
     "data": {
      "text/plain": [
       "<module 're' from 'C:\\\\Users\\\\bstan\\\\anaconda3\\\\lib\\\\re.py'>"
      ]
     },
     "execution_count": 2,
     "metadata": {},
     "output_type": "execute_result"
    }
   ],
   "source": [
    "print(re)\n",
    "re"
   ]
  },
  {
   "cell_type": "markdown",
   "metadata": {},
   "source": [
    "### Using Regular Expressions <br>\n",
    "<p>Regular expressions give us the ability to search for patterns within text, strings, files, etc. They serve several uses, such as; security measures, searching, filtering, pattern recognition, and more...</p>"
   ]
  },
  {
   "cell_type": "markdown",
   "metadata": {},
   "source": [
    "##### re.compile()"
   ]
  },
  {
   "cell_type": "code",
   "execution_count": 3,
   "metadata": {},
   "outputs": [
    {
     "name": "stdout",
     "output_type": "stream",
     "text": [
      "re.compile('abcd')\n",
      "<class 're.Pattern'>\n"
     ]
    },
    {
     "data": {
      "text/plain": [
       "re.compile(r'abcd', re.UNICODE)"
      ]
     },
     "execution_count": 3,
     "metadata": {},
     "output_type": "execute_result"
    }
   ],
   "source": [
    "# using compile, predetermines the string to be used in regular expression methods\n",
    "pattern = re.compile('abcd')\n",
    "print(pattern)\n",
    "print(type(pattern))\n",
    "pattern"
   ]
  },
  {
   "cell_type": "markdown",
   "metadata": {},
   "source": [
    "##### re.match()"
   ]
  },
  {
   "cell_type": "code",
   "execution_count": 4,
   "metadata": {},
   "outputs": [
    {
     "name": "stdout",
     "output_type": "stream",
     "text": [
      "Help on built-in function match:\n",
      "\n",
      "match(string, pos=0, endpos=9223372036854775807) method of re.Pattern instance\n",
      "    Matches zero or more characters at the beginning of the string.\n",
      "\n"
     ]
    }
   ],
   "source": [
    "help(pattern.match)"
   ]
  },
  {
   "cell_type": "code",
   "execution_count": 5,
   "metadata": {},
   "outputs": [
    {
     "name": "stdout",
     "output_type": "stream",
     "text": [
      "<re.Match object; span=(0, 4), match='abcd'>\n"
     ]
    }
   ],
   "source": [
    "# calling the .match method from the Pattern object - returns a Match object if there is a match\n",
    "\n",
    "match1 = pattern.match('abcd1234')\n",
    "\n",
    "print(match1)"
   ]
  },
  {
   "cell_type": "code",
   "execution_count": 6,
   "metadata": {},
   "outputs": [
    {
     "name": "stdout",
     "output_type": "stream",
     "text": [
      "None\n"
     ]
    }
   ],
   "source": [
    "# returns None if there is no match. *Match starts at the BEGINNING of the string\n",
    "match2 = pattern.match('1234abcd')\n",
    "\n",
    "print(match2)"
   ]
  },
  {
   "cell_type": "code",
   "execution_count": 7,
   "metadata": {},
   "outputs": [
    {
     "name": "stdout",
     "output_type": "stream",
     "text": [
      "<re.Match object; span=(0, 4), match='abcd'>\n"
     ]
    }
   ],
   "source": [
    "# Calling the match function from the re module (as opposed to from the Pattern object), pattern is first arg\n",
    "alphabet = 'abcdefghijklmnopqrstuvwxyz'\n",
    "\n",
    "match3 = re.match('abcd', alphabet)\n",
    "\n",
    "print(match3)"
   ]
  },
  {
   "cell_type": "code",
   "execution_count": 8,
   "metadata": {},
   "outputs": [
    {
     "name": "stdout",
     "output_type": "stream",
     "text": [
      "Help on Match in module re object:\n",
      "\n",
      "class Match(builtins.object)\n",
      " |  The result of re.match() and re.search().\n",
      " |  Match objects always have a boolean value of True.\n",
      " |  \n",
      " |  Methods defined here:\n",
      " |  \n",
      " |  __copy__(self, /)\n",
      " |  \n",
      " |  __deepcopy__(self, memo, /)\n",
      " |  \n",
      " |  __getitem__(self, key, /)\n",
      " |      Return self[key].\n",
      " |  \n",
      " |  __repr__(self, /)\n",
      " |      Return repr(self).\n",
      " |  \n",
      " |  end(self, group=0, /)\n",
      " |      Return index of the end of the substring matched by group.\n",
      " |  \n",
      " |  expand(self, /, template)\n",
      " |      Return the string obtained by doing backslash substitution on the string template, as done by the sub() method.\n",
      " |  \n",
      " |  group(...)\n",
      " |      group([group1, ...]) -> str or tuple.\n",
      " |      Return subgroup(s) of the match by indices or names.\n",
      " |      For 0 returns the entire match.\n",
      " |  \n",
      " |  groupdict(self, /, default=None)\n",
      " |      Return a dictionary containing all the named subgroups of the match, keyed by the subgroup name.\n",
      " |      \n",
      " |      default\n",
      " |        Is used for groups that did not participate in the match.\n",
      " |  \n",
      " |  groups(self, /, default=None)\n",
      " |      Return a tuple containing all the subgroups of the match, from 1.\n",
      " |      \n",
      " |      default\n",
      " |        Is used for groups that did not participate in the match.\n",
      " |  \n",
      " |  span(self, group=0, /)\n",
      " |      For match object m, return the 2-tuple (m.start(group), m.end(group)).\n",
      " |  \n",
      " |  start(self, group=0, /)\n",
      " |      Return index of the start of the substring matched by group.\n",
      " |  \n",
      " |  ----------------------------------------------------------------------\n",
      " |  Class methods defined here:\n",
      " |  \n",
      " |  __class_getitem__(...) from builtins.type\n",
      " |      See PEP 585\n",
      " |  \n",
      " |  ----------------------------------------------------------------------\n",
      " |  Data descriptors defined here:\n",
      " |  \n",
      " |  endpos\n",
      " |      The index into the string beyond which the RE engine will not go.\n",
      " |  \n",
      " |  lastgroup\n",
      " |      The name of the last matched capturing group.\n",
      " |  \n",
      " |  lastindex\n",
      " |      The integer index of the last matched capturing group.\n",
      " |  \n",
      " |  pos\n",
      " |      The index into the string at which the RE engine started looking for a match.\n",
      " |  \n",
      " |  re\n",
      " |      The regular expression object.\n",
      " |  \n",
      " |  regs\n",
      " |  \n",
      " |  string\n",
      " |      The string passed to match() or search().\n",
      "\n"
     ]
    }
   ],
   "source": [
    "help(match3)"
   ]
  },
  {
   "cell_type": "code",
   "execution_count": 9,
   "metadata": {},
   "outputs": [
    {
     "name": "stdout",
     "output_type": "stream",
     "text": [
      "(0, 4)\n",
      "0 4\n"
     ]
    }
   ],
   "source": [
    "print(match3.span())\n",
    "print(match3.start(), match3.end())"
   ]
  },
  {
   "cell_type": "code",
   "execution_count": 10,
   "metadata": {},
   "outputs": [
    {
     "name": "stdout",
     "output_type": "stream",
     "text": [
      "abcdefghijklmnopqrstuvwxyz\n",
      "abcd\n"
     ]
    }
   ],
   "source": [
    "print(alphabet)\n",
    "print(alphabet[match3.start():match3.end()])"
   ]
  },
  {
   "cell_type": "markdown",
   "metadata": {},
   "source": [
    "##### re.search()"
   ]
  },
  {
   "cell_type": "code",
   "execution_count": 11,
   "metadata": {},
   "outputs": [
    {
     "name": "stdout",
     "output_type": "stream",
     "text": [
      "Help on built-in function search:\n",
      "\n",
      "search(string, pos=0, endpos=9223372036854775807) method of re.Pattern instance\n",
      "    Scan through string looking for a match, and return a corresponding match object instance.\n",
      "    \n",
      "    Return None if no position in the string matches.\n",
      "\n"
     ]
    }
   ],
   "source": [
    "help(pattern.search)"
   ]
  },
  {
   "cell_type": "code",
   "execution_count": 12,
   "metadata": {},
   "outputs": [
    {
     "name": "stdout",
     "output_type": "stream",
     "text": [
      "<re.Match object; span=(5, 9), match='abcd'>\n"
     ]
    }
   ],
   "source": [
    "# Returns the first match that it finds as it scans left to right through the string\n",
    "search1 = pattern.search('1234 abcd 4321 dcba 123 abcd 321 abcd')\n",
    "\n",
    "print(search1)"
   ]
  },
  {
   "cell_type": "code",
   "execution_count": 13,
   "metadata": {},
   "outputs": [
    {
     "name": "stdout",
     "output_type": "stream",
     "text": [
      "None\n"
     ]
    }
   ],
   "source": [
    "# Returns None if no match is found\n",
    "search2 = pattern.search('123 abc 321 cba ab dc')\n",
    "\n",
    "print(search2)"
   ]
  },
  {
   "cell_type": "code",
   "execution_count": 14,
   "metadata": {},
   "outputs": [
    {
     "name": "stdout",
     "output_type": "stream",
     "text": [
      "<re.Match object; span=(15, 19), match='abcd'>\n"
     ]
    }
   ],
   "source": [
    "# Calling the search function from the re module, pattern is first arg\n",
    "random_string = 'dkljdskjsfopivkabcdbjsaioiewurpnv'\n",
    "\n",
    "search3 = re.search('abcd', random_string)\n",
    "\n",
    "print(search3)"
   ]
  },
  {
   "cell_type": "code",
   "execution_count": 15,
   "metadata": {},
   "outputs": [
    {
     "name": "stdout",
     "output_type": "stream",
     "text": [
      "(15, 19)\n",
      "abcd\n"
     ]
    }
   ],
   "source": [
    "print(search3.span())\n",
    "\n",
    "print(random_string[search3.start():search3.end()])"
   ]
  },
  {
   "cell_type": "markdown",
   "metadata": {},
   "source": [
    "##### re.findall()"
   ]
  },
  {
   "cell_type": "code",
   "execution_count": 16,
   "metadata": {},
   "outputs": [
    {
     "name": "stdout",
     "output_type": "stream",
     "text": [
      "Help on built-in function findall:\n",
      "\n",
      "findall(string, pos=0, endpos=9223372036854775807) method of re.Pattern instance\n",
      "    Return a list of all non-overlapping matches of pattern in string.\n",
      "\n"
     ]
    }
   ],
   "source": [
    "help(pattern.findall)"
   ]
  },
  {
   "cell_type": "code",
   "execution_count": 17,
   "metadata": {},
   "outputs": [
    {
     "name": "stdout",
     "output_type": "stream",
     "text": [
      "['abcd', 'abcd', 'abcd', 'abcd', 'abcd']\n"
     ]
    }
   ],
   "source": [
    "# findall returns a list of string of ALL of the matches in the string\n",
    "all_abcds = pattern.findall('1234 abcd abcd 4321 dcba abcd 1234 abcd cabd abcd')\n",
    "\n",
    "print(all_abcds)"
   ]
  },
  {
   "cell_type": "code",
   "execution_count": 18,
   "metadata": {},
   "outputs": [
    {
     "name": "stdout",
     "output_type": "stream",
     "text": [
      "[]\n"
     ]
    }
   ],
   "source": [
    "# return an empty list [] if no matches\n",
    "all_abcds2 = pattern.findall('dsklfsdhfovhi')\n",
    "\n",
    "print(all_abcds2)"
   ]
  },
  {
   "cell_type": "code",
   "execution_count": 19,
   "metadata": {},
   "outputs": [
    {
     "name": "stdout",
     "output_type": "stream",
     "text": [
      "['abcd', 'abcd', 'abcd']\n"
     ]
    }
   ],
   "source": [
    "# Calling the findall from the re module, pattern is the first arg\n",
    "all_abcds3 = re.findall('abcd', 'abcdefg abcd dbca dbca abcd')\n",
    "\n",
    "print(all_abcds3)"
   ]
  },
  {
   "cell_type": "markdown",
   "metadata": {},
   "source": [
    "##### re.finditer()"
   ]
  },
  {
   "cell_type": "code",
   "execution_count": 20,
   "metadata": {},
   "outputs": [
    {
     "name": "stdout",
     "output_type": "stream",
     "text": [
      "Help on built-in function finditer:\n",
      "\n",
      "finditer(string, pos=0, endpos=9223372036854775807) method of re.Pattern instance\n",
      "    Return an iterator over all non-overlapping matches for the RE pattern in string.\n",
      "    \n",
      "    For each match, the iterator returns a match object.\n",
      "\n"
     ]
    }
   ],
   "source": [
    "help(pattern.finditer)"
   ]
  },
  {
   "cell_type": "code",
   "execution_count": 21,
   "metadata": {},
   "outputs": [
    {
     "name": "stdout",
     "output_type": "stream",
     "text": [
      "<callable_iterator object at 0x00000176EF6B39A0>\n"
     ]
    }
   ],
   "source": [
    "find_all_iters = pattern.finditer('abcd abcd 123 abcd 123 abcd dbca')\n",
    "\n",
    "print(find_all_iters)"
   ]
  },
  {
   "cell_type": "code",
   "execution_count": 22,
   "metadata": {},
   "outputs": [
    {
     "name": "stdout",
     "output_type": "stream",
     "text": [
      "<re.Match object; span=(0, 4), match='abcd'>\n",
      "(0, 4)\n",
      "==================================================\n",
      "<re.Match object; span=(5, 9), match='abcd'>\n",
      "(5, 9)\n",
      "==================================================\n",
      "<re.Match object; span=(14, 18), match='abcd'>\n",
      "(14, 18)\n",
      "==================================================\n",
      "<re.Match object; span=(23, 27), match='abcd'>\n",
      "(23, 27)\n",
      "==================================================\n"
     ]
    }
   ],
   "source": [
    "for match in find_all_iters:\n",
    "    print(match)\n",
    "    print(match.span())\n",
    "    print('='*50)"
   ]
  },
  {
   "cell_type": "code",
   "execution_count": 23,
   "metadata": {
    "scrolled": true
   },
   "outputs": [
    {
     "name": "stdout",
     "output_type": "stream",
     "text": [
      "<re.Match object; span=(0, 4), match='abcd'>\n",
      "<re.Match object; span=(5, 9), match='abcd'>\n",
      "<re.Match object; span=(10, 14), match='abcd'>\n",
      "<re.Match object; span=(24, 28), match='abcd'>\n"
     ]
    }
   ],
   "source": [
    "for match in pattern.finditer('abcd abcd abcd 123 1233 abcd'):\n",
    "    print(match)"
   ]
  },
  {
   "cell_type": "code",
   "execution_count": 24,
   "metadata": {},
   "outputs": [
    {
     "name": "stdout",
     "output_type": "stream",
     "text": [
      "<re.Match object; span=(5, 8), match='123'>\n",
      "<re.Match object; span=(19, 22), match='123'>\n"
     ]
    }
   ],
   "source": [
    "# Calling the finditer from the re module, pattern is the first arg\n",
    "\n",
    "for match in re.finditer('123', 'abcd 1234 abcd 321 123 abcd'):\n",
    "    print(match)"
   ]
  },
  {
   "cell_type": "code",
   "execution_count": 25,
   "metadata": {},
   "outputs": [
    {
     "name": "stdout",
     "output_type": "stream",
     "text": [
      "['abcd', 'abcd', 'abcd', 'abcd']\n",
      "\n",
      "<callable_iterator object at 0x00000176EF6F4550>\n",
      "\n",
      "[<re.Match object; span=(0, 4), match='abcd'>, <re.Match object; span=(5, 9), match='abcd'>, <re.Match object; span=(10, 14), match='abcd'>, <re.Match object; span=(24, 28), match='abcd'>]\n"
     ]
    }
   ],
   "source": [
    "# Findall will return a list of strings\n",
    "\n",
    "ex1 = pattern.findall('abcd abcd abcd 123 1233 abcd')\n",
    "print(ex1)\n",
    "\n",
    "print()\n",
    "\n",
    "# finditer will return an iterable (which can convert to a list) of match objects\n",
    "ex2 = pattern.finditer('abcd abcd abcd 123 1233 abcd')\n",
    "print(ex2)\n",
    "\n",
    "print()\n",
    "\n",
    "ex2_list = list(ex2)\n",
    "print(ex2_list)"
   ]
  },
  {
   "cell_type": "markdown",
   "metadata": {},
   "source": [
    "### Sets <br>\n",
    "<p>The following cells will allow you to use regular expressions to search for certain values within a range such as numbers 1 through 4.</p>"
   ]
  },
  {
   "cell_type": "markdown",
   "metadata": {},
   "source": [
    "##### [a-z] or [A-Z] - any lowercase/uppercase letters from a to z<br/>[^2] - anything that's not 2"
   ]
  },
  {
   "cell_type": "code",
   "execution_count": 26,
   "metadata": {},
   "outputs": [
    {
     "name": "stdout",
     "output_type": "stream",
     "text": [
      "['3', '7', '3', '5', '7', '9', '3', '3', '1', '9', '7', '3', '9', '3', '3', '9', '9']\n"
     ]
    }
   ],
   "source": [
    "pattern_odd = re.compile('[13579]') # 1 or 3 or 5 or 7 or 9\n",
    "\n",
    "number_string = '37463845793483214897328943043929'\n",
    "\n",
    "odds = pattern_odd.findall(number_string)\n",
    "\n",
    "print(odds)"
   ]
  },
  {
   "cell_type": "code",
   "execution_count": 27,
   "metadata": {},
   "outputs": [
    {
     "name": "stdout",
     "output_type": "stream",
     "text": [
      "['a', 'b', 'c', 'd', 'd', 'c', 'b', 'a', 'a', 'b', 'c', 'd', 'd', 'a', 'b', 'c', 'a', 'b', 'c', 'd']\n"
     ]
    }
   ],
   "source": [
    "pattern_abcd = re.compile('[abcd]') # 'a' or 'b' or 'c' or 'd'\n",
    "\n",
    "all_abcds_again = pattern_abcd.findall('123 abcd dcba abcd 1234 4321 dabc ab cd')\n",
    "\n",
    "print(all_abcds_again)"
   ]
  },
  {
   "cell_type": "markdown",
   "metadata": {},
   "source": [
    "##### Integer Ranges"
   ]
  },
  {
   "cell_type": "code",
   "execution_count": 28,
   "metadata": {},
   "outputs": [
    {
     "name": "stdout",
     "output_type": "stream",
     "text": [
      "['3', '4', '3', '4', '5', '3', '4', '3', '2', '1', '4', '3', '2', '4', '3', '0', '4', '3', '2']\n"
     ]
    }
   ],
   "source": [
    "zero_to_five = re.compile('[0-5]')\n",
    "\n",
    "number_string = '37463845793483214897328943043929'\n",
    "\n",
    "matches = zero_to_five.findall(number_string)\n",
    "\n",
    "print(matches)"
   ]
  },
  {
   "cell_type": "code",
   "execution_count": 29,
   "metadata": {},
   "outputs": [
    {
     "name": "stdout",
     "output_type": "stream",
     "text": [
      "['24', '37', '59', '34']\n"
     ]
    }
   ],
   "source": [
    "under_sixty = re.compile('[0-5][0-9]') # two digit number with the first being 0-5 and the second being 0-9\n",
    "\n",
    "\n",
    "new_nums = '2437599345'\n",
    "\n",
    "find_nums = under_sixty.findall(new_nums)\n",
    "\n",
    "print(find_nums)"
   ]
  },
  {
   "cell_type": "code",
   "execution_count": 30,
   "metadata": {},
   "outputs": [
    {
     "name": "stdout",
     "output_type": "stream",
     "text": [
      "['60649', '60688', '60606', '60601']\n"
     ]
    }
   ],
   "source": [
    "zip_codes = '02134, 85732, 60649, 39826, 60688, 51286, 60606, 34242, 60601'\n",
    "\n",
    "# Chicago Zip Code starts with 606 => 60600 - 60699\n",
    "chicago_zip_codes = re.compile('606[0-9][0-9]')\n",
    "\n",
    "zips = chicago_zip_codes.findall(zip_codes)\n",
    "\n",
    "print(zips)"
   ]
  },
  {
   "cell_type": "code",
   "execution_count": 31,
   "metadata": {},
   "outputs": [
    {
     "name": "stdout",
     "output_type": "stream",
     "text": [
      "['3', '1', ' ', '8', '6', '3', ' ', '4', '7', ',', ' ', '8', '3', ' ', '4', '7', ' ', '8', '6', '4']\n"
     ]
    }
   ],
   "source": [
    "# ^ as the first character in a set means NOT\n",
    "not_two = re.compile('[^2]')\n",
    "\n",
    "non_twos = not_two.findall('312 863 2427, 823 427 8642')\n",
    "\n",
    "print(non_twos)"
   ]
  },
  {
   "cell_type": "code",
   "execution_count": 32,
   "metadata": {},
   "outputs": [
    {
     "name": "stdout",
     "output_type": "stream",
     "text": [
      "['8', '9', '6', '8', '8', '7', '9', 'j', 'k', 's', 'd', 'f', 'h', 'k', 's', 'j', 'a', 'f']\n"
     ]
    }
   ],
   "source": [
    "upper_half = re.compile('[^0-5]')\n",
    "\n",
    "high_nums = upper_half.findall('328962384328479jksdfhksjaf')\n",
    "\n",
    "print(high_nums)"
   ]
  },
  {
   "cell_type": "markdown",
   "metadata": {},
   "source": [
    "##### Character Ranges"
   ]
  },
  {
   "cell_type": "code",
   "execution_count": 33,
   "metadata": {},
   "outputs": [
    {
     "name": "stdout",
     "output_type": "stream",
     "text": [
      "['a', 'b', 'c', 'd', 'a', 'b', 'c', 'd', 'c', 'd', 'b', 'a', 'a', 'b', 'd', 'c', 'a', 'b', 'c', 'd', 'a', 'c']\n"
     ]
    }
   ],
   "source": [
    "abcds_again = re.compile('[abcd]')\n",
    "\n",
    "my_abcds = abcds_again.findall('213 abcd 123 abcd cdba abdc 432124abcdac')\n",
    "\n",
    "print(my_abcds)"
   ]
  },
  {
   "cell_type": "code",
   "execution_count": 34,
   "metadata": {},
   "outputs": [
    {
     "name": "stdout",
     "output_type": "stream",
     "text": [
      "['h', 'i', 'i', 'a', 'a', 'd', 'm', 'i', 'g', 'h', 'a', 'a', 'm', 'm', 'a', 'k', 'i', 'g', 'i', 'g', 'h']\n"
     ]
    }
   ],
   "source": [
    "first_half = re.compile('[a-m]')\n",
    "\n",
    "first_half_letters = first_half.findall('This is a random string that I am making right now')\n",
    "\n",
    "print(first_half_letters)"
   ]
  },
  {
   "cell_type": "code",
   "execution_count": 35,
   "metadata": {},
   "outputs": [
    {
     "name": "stdout",
     "output_type": "stream",
     "text": [
      "['T', 'o', 'd', 'a', 'y', 'i', 's', 'O', 'c', 't', 'o', 'b', 'e', 'r', 't', 'h', 'a', 'n', 'd', 'i', 't', 'i', 's', 'd', 'e', 'g', 'r', 'e', 'e', 's', 'a', 'n', 'd', 'I', 'l', 'i', 'v', 'e', 'a', 't', 'R', 'e', 'a', 'l', 'S', 't', 'r', 'e', 'e', 't', '\\\\', '[', ']', '^', '_', '`']\n"
     ]
    }
   ],
   "source": [
    "# Character ranges - Case matters, All uppercase before lowercase in terms of range\n",
    "\n",
    "all_alphabet1 = re.compile('[A-z]') # will include the 6 characters => [, \\, ], ^, _, `\n",
    "\n",
    "letters = all_alphabet1.findall('Today is October 9th and it is 55 degrees and I live at 123 Real Street \\[]^_`')\n",
    "\n",
    "print(letters)"
   ]
  },
  {
   "cell_type": "code",
   "execution_count": 36,
   "metadata": {},
   "outputs": [
    {
     "name": "stdout",
     "output_type": "stream",
     "text": [
      "['T', 'o', 'd', 'a', 'y', 'i', 's', 'O', 'c', 't', 'o', 'b', 'e', 'r', 't', 'h', 'a', 'n', 'd', 'i', 't', 'i', 's', 'd', 'e', 'g', 'r', 'e', 'e', 's', 'a', 'n', 'd', 'I', 'l', 'i', 'v', 'e', 'a', 't', 'R', 'e', 'a', 'l', 'S', 't', 'r', 'e', 'e', 't']\n"
     ]
    }
   ],
   "source": [
    "all_alphabet2 = re.compile('[A-Za-z]') # will NOT include the 6 characters => [, \\, ], ^, _, `\n",
    "\n",
    "letters = all_alphabet2.findall('Today is October 9th and it is 55 degrees and I live at 123 Real Street \\[]^_`')\n",
    "\n",
    "print(letters)"
   ]
  },
  {
   "cell_type": "code",
   "execution_count": 37,
   "metadata": {},
   "outputs": [
    {
     "name": "stdout",
     "output_type": "stream",
     "text": [
      "re.compile('[Z-a]')\n"
     ]
    },
    {
     "data": {
      "text/plain": [
       "['Z', 'a', '\\\\', '_']"
      ]
     },
     "execution_count": 37,
     "metadata": {},
     "output_type": "execute_result"
    }
   ],
   "source": [
    "# Set ranges must make sense in terms of order\n",
    "\n",
    "# bad_range = re.compile('[z-a]')\n",
    "# print(bad_range)\n",
    "# bad_range_again = re.compile('[8-2]')\n",
    "# print(bad_range_again)\n",
    "technicall_works = re.compile('[Z-a]')\n",
    "print(technicall_works)\n",
    "technicall_works.findall('BUZz aldrin\\_')"
   ]
  },
  {
   "cell_type": "code",
   "execution_count": 38,
   "metadata": {},
   "outputs": [
    {
     "name": "stdout",
     "output_type": "stream",
     "text": [
      "Z\n",
      "[\n",
      "\\\n",
      "]\n",
      "^\n",
      "_\n",
      "`\n",
      "a\n"
     ]
    }
   ],
   "source": [
    "for num in range(90, 98):\n",
    "    print(chr(num))"
   ]
  },
  {
   "cell_type": "code",
   "execution_count": 39,
   "metadata": {},
   "outputs": [
    {
     "name": "stdout",
     "output_type": "stream",
     "text": [
      "['[]', '[]', '[]']\n"
     ]
    }
   ],
   "source": [
    "# to find the literal '[' and ']', place a \\ before in the pattern\n",
    "\n",
    "my_symbol_string = \"{} [] () [] () {} () []\"\n",
    "\n",
    "square_brackets = re.findall('\\[]', my_symbol_string)\n",
    "\n",
    "print(square_brackets)"
   ]
  },
  {
   "cell_type": "markdown",
   "metadata": {},
   "source": [
    "### Counting Occurences"
   ]
  },
  {
   "cell_type": "markdown",
   "metadata": {},
   "source": [
    "##### {x} - something that occurs {num_of_times}"
   ]
  },
  {
   "cell_type": "code",
   "execution_count": 40,
   "metadata": {},
   "outputs": [
    {
     "name": "stdout",
     "output_type": "stream",
     "text": [
      "['60606', '23829', '01239']\n"
     ]
    }
   ],
   "source": [
    "addresses = \"123 Real Street, Chicago, IL 60606; 555 Circle Drive, New York, NY 23829, 444 Square Rd, Boston, MA 01239\"\n",
    "\n",
    "# zip_code_pattern = re.compile('[0-9][0-9][0-9][0-9][0-9]')\n",
    "zip_code_pattern = re.compile('[0-9]{5}') # Looking for exactly 5 characters in a row that are 0-9\n",
    "\n",
    "zip_codes = zip_code_pattern.findall(addresses)\n",
    "\n",
    "print(zip_codes)"
   ]
  },
  {
   "cell_type": "code",
   "execution_count": 41,
   "metadata": {},
   "outputs": [
    {
     "data": {
      "text/plain": [
       "['CT1234-xyz', 'CT6565-xyz']"
      ]
     },
     "execution_count": 41,
     "metadata": {},
     "output_type": "execute_result"
    }
   ],
   "source": [
    "employee_id = re.compile('CT[0-9]{4}-xyz')\n",
    "\n",
    "ids = \"CT1234-xyz, CT321-xyz, CT6565-xyz, CT989898-xyz, CT6-xyzzzz\"\n",
    "\n",
    "employee_id.findall(ids)"
   ]
  },
  {
   "cell_type": "markdown",
   "metadata": {},
   "source": [
    "##### {x, y} - something that occurs between x and y times"
   ]
  },
  {
   "cell_type": "code",
   "execution_count": 42,
   "metadata": {},
   "outputs": [
    {
     "name": "stdout",
     "output_type": "stream",
     "text": [
      "['1600', '92345', '8359']\n"
     ]
    }
   ],
   "source": [
    "my_address = \"1600 Pennsylvania Ave, Room 23, Washington, D.C. 92345-8359, sdsskjhvicuxjnfsadkfdskfdsjf\"\n",
    "# pattern to find all of 0-9 chars that are between 3 and 5 digits long\n",
    "\n",
    "three_to_five = re.compile('[0-9]{3,5}')\n",
    "\n",
    "nums = three_to_five.findall(my_address)\n",
    "\n",
    "print(nums)"
   ]
  },
  {
   "cell_type": "code",
   "execution_count": 43,
   "metadata": {},
   "outputs": [
    {
     "data": {
      "text/plain": [
       "['234', '3456', '45678', '56789', '1011']"
      ]
     },
     "execution_count": 43,
     "metadata": {},
     "output_type": "execute_result"
    }
   ],
   "source": [
    "new_nums = '12, 234, 3456, 45678, 567891011'\n",
    "\n",
    "three_to_five.findall(new_nums)"
   ]
  },
  {
   "cell_type": "code",
   "execution_count": 44,
   "metadata": {},
   "outputs": [
    {
     "name": "stdout",
     "output_type": "stream",
     "text": [
      "['Pennsylvania', 'Room', 'Washington', 'sdsskjhvicuxjnfsadkfdskfdsjf']\n"
     ]
    }
   ],
   "source": [
    "four_to_forever = re.compile('[A-Za-z]{4,}')\n",
    "\n",
    "four_or_more = four_to_forever.findall(my_address)\n",
    "\n",
    "print(four_or_more)"
   ]
  },
  {
   "cell_type": "code",
   "execution_count": 45,
   "metadata": {},
   "outputs": [
    {
     "name": "stdout",
     "output_type": "stream",
     "text": [
      "['', '', '', '', '', 'Penn', 'sylv', 'ania', '', 'Ave', '', '', 'Room', '', '', '', '', '', 'Wash', 'ingt', 'on', '', '', 'D', '', 'C', '', '', '', '', '', '', '', '', '', '', '', '', '', '', 'sdss', 'kjhv', 'icux', 'jnfs', 'adkf', 'dskf', 'dsjf', '']\n"
     ]
    }
   ],
   "source": [
    "zero_to_four = re.compile('[A-Za-z]{,4}')\n",
    "\n",
    "four_or_less = zero_to_four.findall(my_address)\n",
    "\n",
    "print(four_or_less)"
   ]
  },
  {
   "cell_type": "markdown",
   "metadata": {},
   "source": [
    "##### ? - something that occurs 0 or 1 time"
   ]
  },
  {
   "cell_type": "code",
   "execution_count": 46,
   "metadata": {},
   "outputs": [],
   "source": [
    "test_string = \"Hello Mrrrrr. and Mrs. Anderson. Have you seen Ms. Smith? My favorite letter is M.\""
   ]
  },
  {
   "cell_type": "code",
   "execution_count": 47,
   "metadata": {},
   "outputs": [
    {
     "name": "stdout",
     "output_type": "stream",
     "text": [
      "['Mr', 'Mrs', 'Ms', 'M', 'M']\n"
     ]
    }
   ],
   "source": [
    "m_pattern = re.compile('Mr?s?')  # 'Mr{0,1}s{0,1}' => 'M', 'Mr', 'Ms', 'Mrs'\n",
    "\n",
    "found = m_pattern.findall(test_string)\n",
    "\n",
    "print(found)"
   ]
  },
  {
   "cell_type": "code",
   "execution_count": 48,
   "metadata": {},
   "outputs": [
    {
     "data": {
      "text/plain": [
       "['(555) 555-4321', '444 444 4444', '3334445566', '(543) 465 6543']"
      ]
     },
     "execution_count": 48,
     "metadata": {},
     "output_type": "execute_result"
    }
   ],
   "source": [
    "phone_nums = \"(555) 555-4321, 444 444 4444; 3334445566; (543) 465 6543\"\n",
    "\n",
    "phone_pattern = re.compile('\\(?[0-9]{3}\\)? ?[0-9]{3}[- ]?[0-9]{4}')\n",
    "\n",
    "phone_pattern.findall(phone_nums)"
   ]
  },
  {
   "cell_type": "markdown",
   "metadata": {},
   "source": [
    "##### * - something that occurs at least 0 times"
   ]
  },
  {
   "cell_type": "code",
   "execution_count": 49,
   "metadata": {},
   "outputs": [],
   "source": [
    "test_string2 = \"Hello Mrrrrrrrrrr. and Mrrrrrsss. Anderson. Have you seen MMMMMMs. Smith? My favorite letter is M.\""
   ]
  },
  {
   "cell_type": "code",
   "execution_count": 50,
   "metadata": {},
   "outputs": [
    {
     "name": "stdout",
     "output_type": "stream",
     "text": [
      "['Mrrrrrrrrrr', 'Mrrrrrsss', 'M', 'M', 'M', 'M', 'M', 'Ms', 'M', 'M']\n"
     ]
    }
   ],
   "source": [
    "m_pattern2 = re.compile('Mr*s*') # Mr{0,}s{0,}\n",
    "\n",
    "found2 = m_pattern2.findall(test_string2)\n",
    "\n",
    "print(found2)"
   ]
  },
  {
   "cell_type": "markdown",
   "metadata": {},
   "source": [
    "##### + - something that occurs at least once"
   ]
  },
  {
   "cell_type": "code",
   "execution_count": 51,
   "metadata": {},
   "outputs": [
    {
     "name": "stdout",
     "output_type": "stream",
     "text": [
      "['Mrrrrrsss']\n"
     ]
    }
   ],
   "source": [
    "m_pattern3 = re.compile('Mr+s+') # Mr{1,}s{1,}\n",
    "\n",
    "found3 = m_pattern3.findall(test_string2)\n",
    "\n",
    "print(found3)"
   ]
  },
  {
   "cell_type": "code",
   "execution_count": 52,
   "metadata": {},
   "outputs": [
    {
     "data": {
      "text/plain": [
       "['www.codingtemple.com', 'www.a.com', 'www.test.com']"
      ]
     },
     "execution_count": 52,
     "metadata": {},
     "output_type": "execute_result"
    }
   ],
   "source": [
    "website_pat = re.compile('www\\.[a-z]+[\\.a-z]*.com')\n",
    "\n",
    "sites = 'www.codingtemple.com, www.a.com, www.test.com, www.123.com'\n",
    "\n",
    "\n",
    "website_pat.findall(sites)"
   ]
  },
  {
   "cell_type": "markdown",
   "metadata": {},
   "source": [
    "##### In-class exercise 1: \n",
    "\n",
    "Use a regular expression to find every number in the given string"
   ]
  },
  {
   "cell_type": "code",
   "execution_count": 53,
   "metadata": {},
   "outputs": [],
   "source": [
    "who_am_i = \"I was born on February 12, 1809. I was elected to Congress in 1847 and became the 16th president in 1861.\"\n",
    "\n",
    "# ['12', '1809', '1847', '16', '1861']"
   ]
  },
  {
   "cell_type": "code",
   "execution_count": null,
   "metadata": {},
   "outputs": [],
   "source": []
  },
  {
   "cell_type": "code",
   "execution_count": null,
   "metadata": {},
   "outputs": [],
   "source": []
  },
  {
   "cell_type": "markdown",
   "metadata": {},
   "source": [
    "### Escaping Characters"
   ]
  },
  {
   "cell_type": "code",
   "execution_count": 54,
   "metadata": {},
   "outputs": [
    {
     "data": {
      "text/plain": [
       "<re.Match object; span=(32, 33), match='?'>"
      ]
     },
     "execution_count": 54,
     "metadata": {},
     "output_type": "execute_result"
    }
   ],
   "source": [
    "my_question = \"How do I find the question marks???\"\n",
    "\n",
    "re.search('\\?', my_question)"
   ]
  },
  {
   "cell_type": "code",
   "execution_count": 55,
   "metadata": {},
   "outputs": [
    {
     "data": {
      "text/plain": [
       "<re.Match object; span=(32, 35), match='???'>"
      ]
     },
     "execution_count": 55,
     "metadata": {},
     "output_type": "execute_result"
    }
   ],
   "source": [
    "re.search('\\?+', my_question)"
   ]
  },
  {
   "cell_type": "markdown",
   "metadata": {},
   "source": [
    "##### \\w - look for any Unicode character<br/>\\W - look for anything that isnt a Unicode character\n",
    "\n",
    "[History on Unicode](http://unicode.org/standard/WhatIsUnicode.html)\n",
    "\n",
    "[More on Unicode Characters](https://en.wikipedia.org/wiki/List_of_Unicode_characters)"
   ]
  },
  {
   "cell_type": "code",
   "execution_count": 56,
   "metadata": {},
   "outputs": [
    {
     "name": "stdout",
     "output_type": "stream",
     "text": [
      "['T', 'h', 'i', 's', 'i', 's', 'a', 's', 'e', 'n', 't', 'e', 'n', 'c', 'e', 'w', 'i', 't', 'h', 'a', 'n', 'e', 'x', 'c', 'l', 'a', 'm', 'a', 't', 'i', 'o', 'n', 'm', 'a', 'r', 'k', 'f', 'i', 'r', 's', 't', '_', 'n', 'a', 'm', 'e', '1', '2', '3', '4', '5', '6']\n"
     ]
    }
   ],
   "source": [
    "sentence = \"This is a sentence. with an, exclamation mark! \\n first_name 123-456\"\n",
    "\n",
    "char_pattern = re.compile('\\w') # [a-zA-Z0-9_] => lowercase, uppercase, digit, or underscore\n",
    "\n",
    "characters = char_pattern.findall(sentence)\n",
    "\n",
    "print(characters)"
   ]
  },
  {
   "cell_type": "code",
   "execution_count": 57,
   "metadata": {},
   "outputs": [
    {
     "name": "stdout",
     "output_type": "stream",
     "text": [
      "['This', 'is', 'a', 'sentence', 'with', 'an', 'exclamation', 'mark', 'first_name', '123', '456']\n"
     ]
    }
   ],
   "source": [
    "word_pattern = re.compile('\\w+') # find characters that add up to a word\n",
    "\n",
    "words = word_pattern.findall(sentence)\n",
    "\n",
    "print(words)"
   ]
  },
  {
   "cell_type": "code",
   "execution_count": 58,
   "metadata": {},
   "outputs": [
    {
     "name": "stdout",
     "output_type": "stream",
     "text": [
      "[' ', ' ', ' ', '.', ' ', ' ', ',', ' ', ' ', '!', ' ', '\\n', ' ', ' ', '-']\n"
     ]
    }
   ],
   "source": [
    "non_letter_pattern = re.compile('\\W') # [^a-zA-Z0-9_]\n",
    "\n",
    "non_letters = non_letter_pattern.findall(sentence)\n",
    "\n",
    "print(non_letters)"
   ]
  },
  {
   "cell_type": "markdown",
   "metadata": {},
   "source": [
    "##### \\d - look for any digit 0-9<br/>\\D - look for anything that isnt a digit"
   ]
  },
  {
   "cell_type": "code",
   "execution_count": 59,
   "metadata": {},
   "outputs": [
    {
     "name": "stdout",
     "output_type": "stream",
     "text": [
      "['3', '1', '9', '1', '0', '9', '2', '0', '2', '3']\n"
     ]
    }
   ],
   "source": [
    "some_string = \"Hello it is 3:19PM on 10/9/2023\"\n",
    "\n",
    "digit_pattern = re.compile('\\d') # [0-9]\n",
    "\n",
    "digits = digit_pattern.findall(some_string)\n",
    "\n",
    "print(digits)"
   ]
  },
  {
   "cell_type": "code",
   "execution_count": 60,
   "metadata": {},
   "outputs": [
    {
     "data": {
      "text/plain": [
       "['3', '19', '10', '9', '2023']"
      ]
     },
     "execution_count": 60,
     "metadata": {},
     "output_type": "execute_result"
    }
   ],
   "source": [
    "combo_digits = re.compile('\\d+') # [0-9]+\n",
    "\n",
    "combo_digits.findall(some_string)"
   ]
  },
  {
   "cell_type": "code",
   "execution_count": 61,
   "metadata": {},
   "outputs": [
    {
     "name": "stdout",
     "output_type": "stream",
     "text": [
      "['H', 'e', 'l', 'l', 'o', ' ', 'i', 't', ' ', 'i', 's', ' ', ':', 'P', 'M', ' ', 'o', 'n', ' ', '/', '/']\n"
     ]
    }
   ],
   "source": [
    "non_digit_pattern = re.compile('\\D') # [^0-9]\n",
    "\n",
    "non_digits = non_digit_pattern.findall(some_string)\n",
    "\n",
    "print(non_digits)"
   ]
  },
  {
   "cell_type": "markdown",
   "metadata": {},
   "source": [
    "##### \\s - look for any white space<br/>\\S - look for anything that isnt whitespace"
   ]
  },
  {
   "cell_type": "code",
   "execution_count": 62,
   "metadata": {},
   "outputs": [
    {
     "name": "stdout",
     "output_type": "stream",
     "text": [
      "This is a sentence.\t with an, exclamation mark! \n",
      "first_name \t 123-456\n"
     ]
    }
   ],
   "source": [
    "sentence2 = \"This is a sentence.\\t with an, exclamation mark! \\nfirst_name \\t 123-456\"\n",
    "print(sentence2)"
   ]
  },
  {
   "cell_type": "code",
   "execution_count": 63,
   "metadata": {},
   "outputs": [
    {
     "name": "stdout",
     "output_type": "stream",
     "text": [
      "[' ', ' ', ' ', '\\t', ' ', ' ', ' ', ' ', ' ', '\\n', ' ', '\\t', ' ']\n"
     ]
    }
   ],
   "source": [
    "space_pat = re.compile('\\s') \n",
    "\n",
    "white_space = space_pat.findall(sentence2)\n",
    "\n",
    "print(white_space)"
   ]
  },
  {
   "cell_type": "code",
   "execution_count": 64,
   "metadata": {},
   "outputs": [
    {
     "name": "stdout",
     "output_type": "stream",
     "text": [
      "['T', 'h', 'i', 's', 'i', 's', 'a', 's', 'e', 'n', 't', 'e', 'n', 'c', 'e', '.', 'w', 'i', 't', 'h', 'a', 'n', ',', 'e', 'x', 'c', 'l', 'a', 'm', 'a', 't', 'i', 'o', 'n', 'm', 'a', 'r', 'k', '!', 'f', 'i', 'r', 's', 't', '_', 'n', 'a', 'm', 'e', '1', '2', '3', '-', '4', '5', '6']\n"
     ]
    }
   ],
   "source": [
    "non_space_pat = re.compile('\\S')\n",
    "\n",
    "dark_space = non_space_pat.findall(sentence2)\n",
    "\n",
    "print(dark_space)"
   ]
  },
  {
   "cell_type": "code",
   "execution_count": 65,
   "metadata": {},
   "outputs": [
    {
     "name": "stdout",
     "output_type": "stream",
     "text": [
      "['This', 'is', 'a', 'sentence.', 'with', 'an,', 'exclamation', 'mark!', 'first_name', '123-456']\n"
     ]
    }
   ],
   "source": [
    "space_sep_words = re.compile('\\S+')\n",
    "\n",
    "words = space_sep_words.findall(sentence2)\n",
    "\n",
    "print(words)"
   ]
  },
  {
   "cell_type": "code",
   "execution_count": 66,
   "metadata": {},
   "outputs": [
    {
     "name": "stdout",
     "output_type": "stream",
     "text": [
      "\\w+: ['This', 'is', 'a', 'sentence', 'with', 'an', 'exclamation', 'mark', 'first_name', '123', '456']\n",
      "\\S+: ['This', 'is', 'a', 'sentence.', 'with', 'an,', 'exclamation', 'mark!', 'first_name', '123-456']\n"
     ]
    }
   ],
   "source": [
    "print('\\w+:', re.findall('\\w+', sentence2))\n",
    "print('\\S+:', re.findall('\\S+', sentence2))"
   ]
  },
  {
   "cell_type": "markdown",
   "metadata": {},
   "source": [
    "##### \\b - look for boundaries or edges of a word<br/>\\B - look for anything that isnt a boundary"
   ]
  },
  {
   "cell_type": "code",
   "execution_count": 67,
   "metadata": {},
   "outputs": [
    {
     "name": "stdout",
     "output_type": "stream",
     "text": [
      "Hello World\\b\n"
     ]
    }
   ],
   "source": [
    "print(r'Hello World\\b')"
   ]
  },
  {
   "cell_type": "code",
   "execution_count": 68,
   "metadata": {},
   "outputs": [
    {
     "name": "stdout",
     "output_type": "stream",
     "text": [
      "<re.Match object; span=(4, 7), match='cat'>\n"
     ]
    }
   ],
   "source": [
    "rhyme = \"The cat knows how to scat\"\n",
    "\n",
    "pattern_boundary = re.compile(r'\\bcat')\n",
    "\n",
    "for match in pattern_boundary.finditer(rhyme):\n",
    "    print(match)"
   ]
  },
  {
   "cell_type": "code",
   "execution_count": 69,
   "metadata": {},
   "outputs": [
    {
     "name": "stdout",
     "output_type": "stream",
     "text": [
      "<re.Match object; span=(22, 25), match='cat'>\n"
     ]
    }
   ],
   "source": [
    "non_boundary = re.compile(r'\\Bcat')\n",
    "\n",
    "for match in non_boundary.finditer(rhyme):\n",
    "    print(match)"
   ]
  },
  {
   "cell_type": "code",
   "execution_count": 70,
   "metadata": {},
   "outputs": [
    {
     "data": {
      "text/plain": [
       "['test.py', 'test_whiteboard.py', 'test123.py']"
      ]
     },
     "execution_count": 70,
     "metadata": {},
     "output_type": "execute_result"
    }
   ],
   "source": [
    "option3 = re.compile(r'\\btest\\w*\\.py')\n",
    "\n",
    "test_files = \"test.py, test_whiteboard.py, test123.py, whiteboard_test.py, atest.py\"\n",
    "\n",
    "option3.findall(test_files)"
   ]
  },
  {
   "cell_type": "markdown",
   "metadata": {},
   "source": [
    "##### In-class Exercise 2:\n",
    "\n",
    "Write a regular expression to match a valid email address. Consider that it should start with one word character followed by zero or more word and digit characters, followed by the \"@\" symbol, then one or more word or digit characters, a dot, and finally two to four word characters. Use `my_emails` to test your regular expression"
   ]
  },
  {
   "cell_type": "code",
   "execution_count": 71,
   "metadata": {},
   "outputs": [],
   "source": [
    "my_emails = [\"jordanw@codingtemple.org\", \"pocohontas1776@gmail.com\", \"helloworld@aol..com\",\n",
    "             \"yourfavorite@band@g6.org\", \"@codingtemple.com\", \"conor.bedard\"]\n",
    "\n",
    "# Valid Email -> username@domain.xyz\n",
    "\n",
    "for email in my_emails:\n",
    "    pass"
   ]
  },
  {
   "cell_type": "markdown",
   "metadata": {},
   "source": [
    "### Grouping"
   ]
  },
  {
   "cell_type": "code",
   "execution_count": 72,
   "metadata": {},
   "outputs": [
    {
     "name": "stdout",
     "output_type": "stream",
     "text": [
      "Help on class Match in module re:\n",
      "\n",
      "class Match(builtins.object)\n",
      " |  The result of re.match() and re.search().\n",
      " |  Match objects always have a boolean value of True.\n",
      " |  \n",
      " |  Methods defined here:\n",
      " |  \n",
      " |  __copy__(self, /)\n",
      " |  \n",
      " |  __deepcopy__(self, memo, /)\n",
      " |  \n",
      " |  __getitem__(self, key, /)\n",
      " |      Return self[key].\n",
      " |  \n",
      " |  __repr__(self, /)\n",
      " |      Return repr(self).\n",
      " |  \n",
      " |  end(self, group=0, /)\n",
      " |      Return index of the end of the substring matched by group.\n",
      " |  \n",
      " |  expand(self, /, template)\n",
      " |      Return the string obtained by doing backslash substitution on the string template, as done by the sub() method.\n",
      " |  \n",
      " |  group(...)\n",
      " |      group([group1, ...]) -> str or tuple.\n",
      " |      Return subgroup(s) of the match by indices or names.\n",
      " |      For 0 returns the entire match.\n",
      " |  \n",
      " |  groupdict(self, /, default=None)\n",
      " |      Return a dictionary containing all the named subgroups of the match, keyed by the subgroup name.\n",
      " |      \n",
      " |      default\n",
      " |        Is used for groups that did not participate in the match.\n",
      " |  \n",
      " |  groups(self, /, default=None)\n",
      " |      Return a tuple containing all the subgroups of the match, from 1.\n",
      " |      \n",
      " |      default\n",
      " |        Is used for groups that did not participate in the match.\n",
      " |  \n",
      " |  span(self, group=0, /)\n",
      " |      For match object m, return the 2-tuple (m.start(group), m.end(group)).\n",
      " |  \n",
      " |  start(self, group=0, /)\n",
      " |      Return index of the start of the substring matched by group.\n",
      " |  \n",
      " |  ----------------------------------------------------------------------\n",
      " |  Class methods defined here:\n",
      " |  \n",
      " |  __class_getitem__(...) from builtins.type\n",
      " |      See PEP 585\n",
      " |  \n",
      " |  ----------------------------------------------------------------------\n",
      " |  Data descriptors defined here:\n",
      " |  \n",
      " |  endpos\n",
      " |      The index into the string beyond which the RE engine will not go.\n",
      " |  \n",
      " |  lastgroup\n",
      " |      The name of the last matched capturing group.\n",
      " |  \n",
      " |  lastindex\n",
      " |      The integer index of the last matched capturing group.\n",
      " |  \n",
      " |  pos\n",
      " |      The index into the string at which the RE engine started looking for a match.\n",
      " |  \n",
      " |  re\n",
      " |      The regular expression object.\n",
      " |  \n",
      " |  regs\n",
      " |  \n",
      " |  string\n",
      " |      The string passed to match() or search().\n",
      "\n"
     ]
    }
   ],
   "source": [
    "help(re.Match)"
   ]
  },
  {
   "cell_type": "code",
   "execution_count": 73,
   "metadata": {},
   "outputs": [
    {
     "name": "stdout",
     "output_type": "stream",
     "text": [
      "<re.Match object; span=(0, 11), match='John Lennon'>\n",
      "('John', 'Lennon')\n",
      "==================================================\n",
      "<re.Match object; span=(13, 27), match='Paul McCartney'>\n",
      "('Paul', 'McCartney')\n",
      "==================================================\n",
      "<re.Match object; span=(29, 44), match='George Harrison'>\n",
      "('George', 'Harrison')\n",
      "==================================================\n",
      "<re.Match object; span=(46, 57), match='Ringo Starr'>\n",
      "('Ringo', 'Starr')\n",
      "==================================================\n"
     ]
    }
   ],
   "source": [
    "beatles = \"John Lennon, Paul McCartney, George Harrison, Ringo Starr\"\n",
    "\n",
    "name_pattern = re.compile('([A-Z][a-z]+) ([A-Z][A-Za-z]+)')\n",
    "\n",
    "for name in name_pattern.finditer(beatles):\n",
    "    print(name)\n",
    "    print(name.groups())\n",
    "    print('='*50)"
   ]
  },
  {
   "cell_type": "code",
   "execution_count": 74,
   "metadata": {},
   "outputs": [
    {
     "name": "stdout",
     "output_type": "stream",
     "text": [
      "<re.Match object; span=(0, 11), match='John Lennon'>\n",
      "Lennon\n",
      "==================================================\n",
      "<re.Match object; span=(13, 27), match='Paul McCartney'>\n",
      "McCartney\n",
      "==================================================\n",
      "<re.Match object; span=(29, 44), match='George Harrison'>\n",
      "Harrison\n",
      "==================================================\n",
      "<re.Match object; span=(46, 57), match='Ringo Starr'>\n",
      "Starr\n",
      "==================================================\n"
     ]
    }
   ],
   "source": [
    "for name in name_pattern.finditer(beatles):\n",
    "    print(name)\n",
    "    print(name.group(2))\n",
    "    print('='*50)"
   ]
  },
  {
   "cell_type": "code",
   "execution_count": 75,
   "metadata": {
    "scrolled": false
   },
   "outputs": [
    {
     "name": "stdout",
     "output_type": "stream",
     "text": [
      "<re.Match object; span=(0, 11), match='John Lennon'>\n",
      "Lennon\n",
      "==================================================\n",
      "<re.Match object; span=(13, 27), match='Paul McCartney'>\n",
      "McCartney\n",
      "==================================================\n",
      "<re.Match object; span=(29, 44), match='George Harrison'>\n",
      "Harrison\n",
      "==================================================\n",
      "<re.Match object; span=(46, 57), match='Ringo Starr'>\n",
      "Starr\n",
      "==================================================\n"
     ]
    }
   ],
   "source": [
    "beatles = \"John Lennon, Paul McCartney, George Harrison, Ringo Starr\"\n",
    "\n",
    "name_pattern_named_groups = re.compile('(?P<first>[A-Z][a-z]+) (?P<last>[A-Z][A-Za-z]+)')\n",
    "\n",
    "for name in name_pattern_named_groups.finditer(beatles):\n",
    "    print(name)\n",
    "    print(name.group('last'))\n",
    "    print('='*50)"
   ]
  },
  {
   "cell_type": "code",
   "execution_count": 76,
   "metadata": {
    "scrolled": true
   },
   "outputs": [
    {
     "name": "stdout",
     "output_type": "stream",
     "text": [
      "Lennon\n",
      "McCartney\n",
      "Harrison\n",
      "Starr\n"
     ]
    }
   ],
   "source": [
    "for name in name_pattern_named_groups.finditer(beatles):\n",
    "    print(name.group('last'))"
   ]
  },
  {
   "cell_type": "code",
   "execution_count": 77,
   "metadata": {
    "scrolled": true
   },
   "outputs": [
    {
     "data": {
      "text/plain": [
       "[('John', 'Lennon'),\n",
       " ('Paul', 'McCartney'),\n",
       " ('George', 'Harrison'),\n",
       " ('Ringo', 'Starr')]"
      ]
     },
     "execution_count": 77,
     "metadata": {},
     "output_type": "execute_result"
    }
   ],
   "source": [
    "# the .findall with a group pattern will return a list of tuples\n",
    "\n",
    "name_pattern_named_groups.findall(beatles)"
   ]
  },
  {
   "cell_type": "code",
   "execution_count": 78,
   "metadata": {},
   "outputs": [
    {
     "name": "stdout",
     "output_type": "stream",
     "text": [
      "Lennon, John\n",
      "McCartney, Paul\n",
      "Harrison, George\n",
      "Starr, Ringo\n"
     ]
    }
   ],
   "source": [
    "for match in name_pattern_named_groups.finditer(beatles):\n",
    "    print(f\"{match.group('last')}, {match.group('first')}\")"
   ]
  },
  {
   "cell_type": "markdown",
   "metadata": {},
   "source": [
    "### Opening a File <br>\n",
    "<p>Python has a built in open function that will open files and give us the ability to read/write/etc.</p>"
   ]
  },
  {
   "cell_type": "markdown",
   "metadata": {},
   "source": [
    "##### open()"
   ]
  },
  {
   "cell_type": "code",
   "execution_count": 79,
   "metadata": {
    "scrolled": true
   },
   "outputs": [
    {
     "name": "stdout",
     "output_type": "stream",
     "text": [
      "Help on function open in module io:\n",
      "\n",
      "open(file, mode='r', buffering=-1, encoding=None, errors=None, newline=None, closefd=True, opener=None)\n",
      "    Open file and return a stream.  Raise OSError upon failure.\n",
      "    \n",
      "    file is either a text or byte string giving the name (and the path\n",
      "    if the file isn't in the current working directory) of the file to\n",
      "    be opened or an integer file descriptor of the file to be\n",
      "    wrapped. (If a file descriptor is given, it is closed when the\n",
      "    returned I/O object is closed, unless closefd is set to False.)\n",
      "    \n",
      "    mode is an optional string that specifies the mode in which the file\n",
      "    is opened. It defaults to 'r' which means open for reading in text\n",
      "    mode.  Other common values are 'w' for writing (truncating the file if\n",
      "    it already exists), 'x' for creating and writing to a new file, and\n",
      "    'a' for appending (which on some Unix systems, means that all writes\n",
      "    append to the end of the file regardless of the current seek position).\n",
      "    In text mode, if encoding is not specified the encoding used is platform\n",
      "    dependent: locale.getpreferredencoding(False) is called to get the\n",
      "    current locale encoding. (For reading and writing raw bytes use binary\n",
      "    mode and leave encoding unspecified.) The available modes are:\n",
      "    \n",
      "    ========= ===============================================================\n",
      "    Character Meaning\n",
      "    --------- ---------------------------------------------------------------\n",
      "    'r'       open for reading (default)\n",
      "    'w'       open for writing, truncating the file first\n",
      "    'x'       create a new file and open it for writing\n",
      "    'a'       open for writing, appending to the end of the file if it exists\n",
      "    'b'       binary mode\n",
      "    't'       text mode (default)\n",
      "    '+'       open a disk file for updating (reading and writing)\n",
      "    'U'       universal newline mode (deprecated)\n",
      "    ========= ===============================================================\n",
      "    \n",
      "    The default mode is 'rt' (open for reading text). For binary random\n",
      "    access, the mode 'w+b' opens and truncates the file to 0 bytes, while\n",
      "    'r+b' opens the file without truncation. The 'x' mode implies 'w' and\n",
      "    raises an `FileExistsError` if the file already exists.\n",
      "    \n",
      "    Python distinguishes between files opened in binary and text modes,\n",
      "    even when the underlying operating system doesn't. Files opened in\n",
      "    binary mode (appending 'b' to the mode argument) return contents as\n",
      "    bytes objects without any decoding. In text mode (the default, or when\n",
      "    't' is appended to the mode argument), the contents of the file are\n",
      "    returned as strings, the bytes having been first decoded using a\n",
      "    platform-dependent encoding or using the specified encoding if given.\n",
      "    \n",
      "    'U' mode is deprecated and will raise an exception in future versions\n",
      "    of Python.  It has no effect in Python 3.  Use newline to control\n",
      "    universal newlines mode.\n",
      "    \n",
      "    buffering is an optional integer used to set the buffering policy.\n",
      "    Pass 0 to switch buffering off (only allowed in binary mode), 1 to select\n",
      "    line buffering (only usable in text mode), and an integer > 1 to indicate\n",
      "    the size of a fixed-size chunk buffer.  When no buffering argument is\n",
      "    given, the default buffering policy works as follows:\n",
      "    \n",
      "    * Binary files are buffered in fixed-size chunks; the size of the buffer\n",
      "      is chosen using a heuristic trying to determine the underlying device's\n",
      "      \"block size\" and falling back on `io.DEFAULT_BUFFER_SIZE`.\n",
      "      On many systems, the buffer will typically be 4096 or 8192 bytes long.\n",
      "    \n",
      "    * \"Interactive\" text files (files for which isatty() returns True)\n",
      "      use line buffering.  Other text files use the policy described above\n",
      "      for binary files.\n",
      "    \n",
      "    encoding is the name of the encoding used to decode or encode the\n",
      "    file. This should only be used in text mode. The default encoding is\n",
      "    platform dependent, but any encoding supported by Python can be\n",
      "    passed.  See the codecs module for the list of supported encodings.\n",
      "    \n",
      "    errors is an optional string that specifies how encoding errors are to\n",
      "    be handled---this argument should not be used in binary mode. Pass\n",
      "    'strict' to raise a ValueError exception if there is an encoding error\n",
      "    (the default of None has the same effect), or pass 'ignore' to ignore\n",
      "    errors. (Note that ignoring encoding errors can lead to data loss.)\n",
      "    See the documentation for codecs.register or run 'help(codecs.Codec)'\n",
      "    for a list of the permitted encoding error strings.\n",
      "    \n",
      "    newline controls how universal newlines works (it only applies to text\n",
      "    mode). It can be None, '', '\\n', '\\r', and '\\r\\n'.  It works as\n",
      "    follows:\n",
      "    \n",
      "    * On input, if newline is None, universal newlines mode is\n",
      "      enabled. Lines in the input can end in '\\n', '\\r', or '\\r\\n', and\n",
      "      these are translated into '\\n' before being returned to the\n",
      "      caller. If it is '', universal newline mode is enabled, but line\n",
      "      endings are returned to the caller untranslated. If it has any of\n",
      "      the other legal values, input lines are only terminated by the given\n",
      "      string, and the line ending is returned to the caller untranslated.\n",
      "    \n",
      "    * On output, if newline is None, any '\\n' characters written are\n",
      "      translated to the system default line separator, os.linesep. If\n",
      "      newline is '' or '\\n', no translation takes place. If newline is any\n",
      "      of the other legal values, any '\\n' characters written are translated\n",
      "      to the given string.\n",
      "    \n",
      "    If closefd is False, the underlying file descriptor will be kept open\n",
      "    when the file is closed. This does not work when a file name is given\n",
      "    and must be True in that case.\n",
      "    \n",
      "    A custom opener can be used by passing a callable as *opener*. The\n",
      "    underlying file descriptor for the file object is then obtained by\n",
      "    calling *opener* with (*file*, *flags*). *opener* must return an open\n",
      "    file descriptor (passing os.open as *opener* results in functionality\n",
      "    similar to passing None).\n",
      "    \n",
      "    open() returns a file object whose type depends on the mode, and\n",
      "    through which the standard file operations such as reading and writing\n",
      "    are performed. When open() is used to open a file in a text mode ('w',\n",
      "    'r', 'wt', 'rt', etc.), it returns a TextIOWrapper. When used to open\n",
      "    a file in a binary mode, the returned class varies: in read binary\n",
      "    mode, it returns a BufferedReader; in write binary and append binary\n",
      "    modes, it returns a BufferedWriter, and in read/write mode, it returns\n",
      "    a BufferedRandom.\n",
      "    \n",
      "    It is also possible to use a string or bytearray as a file for both\n",
      "    reading and writing. For strings StringIO can be used like a file\n",
      "    opened in a text mode, and for bytes a BytesIO can be used like a file\n",
      "    opened in a binary mode.\n",
      "\n"
     ]
    }
   ],
   "source": [
    "help(open)"
   ]
  },
  {
   "cell_type": "markdown",
   "metadata": {},
   "source": [
    "##### with open()"
   ]
  },
  {
   "cell_type": "code",
   "execution_count": 81,
   "metadata": {
    "scrolled": false
   },
   "outputs": [
    {
     "data": {
      "text/plain": [
       "'Hawkins, Derek\\tderek@codingtemple.com\\t(555) 555-5555\\tTeacher, Coding Temple\\t@derekhawkins\\nStanton, Brian\\tbrians@codingtemple.com\\t(555) 555-5554\\tTeacher, Coding Temple\\nJohnson, Joe\\tjoejohnson@codingtemple.com\\t\\tJohson, Joe\\nOsterberg, Sven-Erik\\tgovernor@norrbotten.co.se\\t\\tGovernor, Norrbotten\\t@sverik\\n, Tim\\ttim@killerrabbit.com\\t\\tEnchanter, Killer Rabbit Cave\\nButz, Ryan\\tryanb@codingtemple.com\\t(555) 555-5543\\tCEO, Coding Temple\\t@ryanbutz\\nDoctor, The\\tdoctor+companion@tardis.co.uk\\t\\tTime Lord, Gallifrey\\nExampleson, Example\\tme@example.com\\t555-555-5552\\tExample, Example Co.\\t@example\\nPael, Ripal\\tripalp@codingtemple.com\\t(555) 555-5553\\tTeacher, Coding Temple\\t@ripalp\\nVader, Darth\\tdarth-vader@empire.gov\\t(555) 555-4444\\tSith Lord, Galactic Empire\\t@darthvader\\nFernandez de la Vega Sanz, Maria Teresa\\tmtfvs@spain.gov\\t\\tFirst Deputy Prime Minister, Spanish Gov\\n'"
      ]
     },
     "execution_count": 81,
     "metadata": {},
     "output_type": "execute_result"
    }
   ],
   "source": [
    "with open('names.txt') as new_file:\n",
    "    data_str = new_file.read()\n",
    "    \n",
    "data_str"
   ]
  },
  {
   "cell_type": "code",
   "execution_count": 82,
   "metadata": {},
   "outputs": [
    {
     "name": "stdout",
     "output_type": "stream",
     "text": [
      "Hawkins, Derek\tderek@codingtemple.com\t(555) 555-5555\tTeacher, Coding Temple\t@derekhawkins\n",
      "Stanton, Brian\tbrians@codingtemple.com\t(555) 555-5554\tTeacher, Coding Temple\n",
      "Johnson, Joe\tjoejohnson@codingtemple.com\t\tJohson, Joe\n",
      "Osterberg, Sven-Erik\tgovernor@norrbotten.co.se\t\tGovernor, Norrbotten\t@sverik\n",
      ", Tim\ttim@killerrabbit.com\t\tEnchanter, Killer Rabbit Cave\n",
      "Butz, Ryan\tryanb@codingtemple.com\t(555) 555-5543\tCEO, Coding Temple\t@ryanbutz\n",
      "Doctor, The\tdoctor+companion@tardis.co.uk\t\tTime Lord, Gallifrey\n",
      "Exampleson, Example\tme@example.com\t555-555-5552\tExample, Example Co.\t@example\n",
      "Pael, Ripal\tripalp@codingtemple.com\t(555) 555-5553\tTeacher, Coding Temple\t@ripalp\n",
      "Vader, Darth\tdarth-vader@empire.gov\t(555) 555-4444\tSith Lord, Galactic Empire\t@darthvader\n",
      "Fernandez de la Vega Sanz, Maria Teresa\tmtfvs@spain.gov\t\tFirst Deputy Prime Minister, Spanish Gov\n",
      "\n"
     ]
    }
   ],
   "source": [
    "print(data_str)"
   ]
  },
  {
   "cell_type": "code",
   "execution_count": 83,
   "metadata": {
    "scrolled": true
   },
   "outputs": [
    {
     "ename": "ValueError",
     "evalue": "I/O operation on closed file.",
     "output_type": "error",
     "traceback": [
      "\u001b[1;31m---------------------------------------------------------------------------\u001b[0m",
      "\u001b[1;31mValueError\u001b[0m                                Traceback (most recent call last)",
      "Cell \u001b[1;32mIn[83], line 1\u001b[0m\n\u001b[1;32m----> 1\u001b[0m \u001b[43mnew_file\u001b[49m\u001b[38;5;241;43m.\u001b[39;49m\u001b[43mread\u001b[49m\u001b[43m(\u001b[49m\u001b[43m)\u001b[49m\n",
      "\u001b[1;31mValueError\u001b[0m: I/O operation on closed file."
     ]
    }
   ],
   "source": [
    "new_file.read()"
   ]
  },
  {
   "cell_type": "code",
   "execution_count": 84,
   "metadata": {},
   "outputs": [
    {
     "data": {
      "text/plain": [
       "['Hawkins, Derek\\tderek@codingtemple.com\\t(555) 555-5555\\tTeacher, Coding Temple\\t@derekhawkins\\n',\n",
       " 'Stanton, Brian\\tbrians@codingtemple.com\\t(555) 555-5554\\tTeacher, Coding Temple\\n',\n",
       " 'Johnson, Joe\\tjoejohnson@codingtemple.com\\t\\tJohson, Joe\\n',\n",
       " 'Osterberg, Sven-Erik\\tgovernor@norrbotten.co.se\\t\\tGovernor, Norrbotten\\t@sverik\\n',\n",
       " ', Tim\\ttim@killerrabbit.com\\t\\tEnchanter, Killer Rabbit Cave\\n',\n",
       " 'Butz, Ryan\\tryanb@codingtemple.com\\t(555) 555-5543\\tCEO, Coding Temple\\t@ryanbutz\\n',\n",
       " 'Doctor, The\\tdoctor+companion@tardis.co.uk\\t\\tTime Lord, Gallifrey\\n',\n",
       " 'Exampleson, Example\\tme@example.com\\t555-555-5552\\tExample, Example Co.\\t@example\\n',\n",
       " 'Pael, Ripal\\tripalp@codingtemple.com\\t(555) 555-5553\\tTeacher, Coding Temple\\t@ripalp\\n',\n",
       " 'Vader, Darth\\tdarth-vader@empire.gov\\t(555) 555-4444\\tSith Lord, Galactic Empire\\t@darthvader\\n',\n",
       " 'Fernandez de la Vega Sanz, Maria Teresa\\tmtfvs@spain.gov\\t\\tFirst Deputy Prime Minister, Spanish Gov\\n']"
      ]
     },
     "execution_count": 84,
     "metadata": {},
     "output_type": "execute_result"
    }
   ],
   "source": [
    "with open('names.txt') as new_file:\n",
    "    data_list = new_file.readlines()\n",
    "\n",
    "data_list"
   ]
  },
  {
   "cell_type": "code",
   "execution_count": 85,
   "metadata": {},
   "outputs": [
    {
     "name": "stdout",
     "output_type": "stream",
     "text": [
      "Hawkins, Derek\tderek@codingtemple.com\t(555) 555-5555\tTeacher, Coding Temple\t@derekhawkins\n",
      "\n",
      "----------------------------------------------------------------------------------------------------\n",
      "Stanton, Brian\tbrians@codingtemple.com\t(555) 555-5554\tTeacher, Coding Temple\n",
      "\n",
      "----------------------------------------------------------------------------------------------------\n",
      "Johnson, Joe\tjoejohnson@codingtemple.com\t\tJohson, Joe\n",
      "\n",
      "----------------------------------------------------------------------------------------------------\n",
      "Osterberg, Sven-Erik\tgovernor@norrbotten.co.se\t\tGovernor, Norrbotten\t@sverik\n",
      "\n",
      "----------------------------------------------------------------------------------------------------\n",
      ", Tim\ttim@killerrabbit.com\t\tEnchanter, Killer Rabbit Cave\n",
      "\n",
      "----------------------------------------------------------------------------------------------------\n",
      "Butz, Ryan\tryanb@codingtemple.com\t(555) 555-5543\tCEO, Coding Temple\t@ryanbutz\n",
      "\n",
      "----------------------------------------------------------------------------------------------------\n",
      "Doctor, The\tdoctor+companion@tardis.co.uk\t\tTime Lord, Gallifrey\n",
      "\n",
      "----------------------------------------------------------------------------------------------------\n",
      "Exampleson, Example\tme@example.com\t555-555-5552\tExample, Example Co.\t@example\n",
      "\n",
      "----------------------------------------------------------------------------------------------------\n",
      "Pael, Ripal\tripalp@codingtemple.com\t(555) 555-5553\tTeacher, Coding Temple\t@ripalp\n",
      "\n",
      "----------------------------------------------------------------------------------------------------\n",
      "Vader, Darth\tdarth-vader@empire.gov\t(555) 555-4444\tSith Lord, Galactic Empire\t@darthvader\n",
      "\n",
      "----------------------------------------------------------------------------------------------------\n",
      "Fernandez de la Vega Sanz, Maria Teresa\tmtfvs@spain.gov\t\tFirst Deputy Prime Minister, Spanish Gov\n",
      "\n",
      "----------------------------------------------------------------------------------------------------\n"
     ]
    }
   ],
   "source": [
    "for line in data_list:\n",
    "    print(line)\n",
    "    print('-'*100)"
   ]
  },
  {
   "cell_type": "markdown",
   "metadata": {},
   "source": [
    "##### re.match()"
   ]
  },
  {
   "cell_type": "code",
   "execution_count": 86,
   "metadata": {},
   "outputs": [
    {
     "data": {
      "text/plain": [
       "<re.Match object; span=(0, 7), match='Hawkins'>"
      ]
     },
     "execution_count": 86,
     "metadata": {},
     "output_type": "execute_result"
    }
   ],
   "source": [
    "re.match('\\w+', data_str)"
   ]
  },
  {
   "cell_type": "code",
   "execution_count": 87,
   "metadata": {},
   "outputs": [
    {
     "data": {
      "text/plain": [
       "<re.Match object; span=(90, 97), match='Stanton'>"
      ]
     },
     "execution_count": 87,
     "metadata": {},
     "output_type": "execute_result"
    }
   ],
   "source": [
    "re.search('Stanton', data_str)"
   ]
  },
  {
   "cell_type": "code",
   "execution_count": 88,
   "metadata": {},
   "outputs": [
    {
     "name": "stdout",
     "output_type": "stream",
     "text": [
      "Stanton\n"
     ]
    }
   ],
   "source": [
    "print(data_str[90:97])"
   ]
  },
  {
   "cell_type": "markdown",
   "metadata": {},
   "source": [
    "##### Regular Expression Flags"
   ]
  },
  {
   "cell_type": "code",
   "execution_count": 89,
   "metadata": {
    "scrolled": true
   },
   "outputs": [
    {
     "name": "stdout",
     "output_type": "stream",
     "text": [
      "['34.23', '324.473847', '543.43645324', '6578.344341', '875.234234', '543', '456.']\n"
     ]
    }
   ],
   "source": [
    "numbers = \"34.23, 324.473847, 543.43645324, 6578.344341, 875.234234, 543, 456.\"\n",
    "\n",
    "pattern_a = re.compile(r'\\d+\\.?\\d*')\n",
    "\n",
    "print(pattern_a.findall(numbers))"
   ]
  },
  {
   "cell_type": "code",
   "execution_count": 90,
   "metadata": {
    "scrolled": true
   },
   "outputs": [
    {
     "name": "stdout",
     "output_type": "stream",
     "text": [
      "['34.23', '324.473847', '543.43645324', '6578.344341', '875.234234', '543', '456.']\n"
     ]
    }
   ],
   "source": [
    "pattern_b = re.compile(r\"\"\"\n",
    "    \\d+      # The integral part (left of the decimal) - need at least one digit, can be more\n",
    "    \\.?      # The decimal point (may or may not be there)\n",
    "    \\d*      # The fractional part (right of the decimal) - can be no digits or unlimited\n",
    "\"\"\", re.X) # re.X allows us to be more verbose - whitespace is ignore and # allows us to add comments\n",
    "\n",
    "print(pattern_b.findall(numbers))"
   ]
  },
  {
   "cell_type": "code",
   "execution_count": 91,
   "metadata": {},
   "outputs": [],
   "source": [
    "new_emails = \"brians@codingtemple.com\\nsarahs@codingtemple.com\\nsamd@codingtemple.com\"\n",
    "\n",
    "\n",
    "email_pattern_a = re.compile('^\\w+@\\w+\\.com$')\n",
    "email_pattern_b = re.compile('^\\w+@\\w+\\.com$', re.M) # re.M basically says each line is its own string "
   ]
  },
  {
   "cell_type": "code",
   "execution_count": 92,
   "metadata": {},
   "outputs": [
    {
     "data": {
      "text/plain": [
       "[]"
      ]
     },
     "execution_count": 92,
     "metadata": {},
     "output_type": "execute_result"
    }
   ],
   "source": [
    "email_pattern_a.findall(new_emails)"
   ]
  },
  {
   "cell_type": "code",
   "execution_count": 93,
   "metadata": {},
   "outputs": [
    {
     "data": {
      "text/plain": [
       "['brians@codingtemple.com', 'sarahs@codingtemple.com', 'samd@codingtemple.com']"
      ]
     },
     "execution_count": 93,
     "metadata": {},
     "output_type": "execute_result"
    }
   ],
   "source": [
    "email_pattern_b.findall(new_emails)"
   ]
  },
  {
   "cell_type": "code",
   "execution_count": null,
   "metadata": {},
   "outputs": [],
   "source": []
  }
 ],
 "metadata": {
  "kernelspec": {
   "display_name": "Python 3 (ipykernel)",
   "language": "python",
   "name": "python3"
  },
  "language_info": {
   "codemirror_mode": {
    "name": "ipython",
    "version": 3
   },
   "file_extension": ".py",
   "mimetype": "text/x-python",
   "name": "python",
   "nbconvert_exporter": "python",
   "pygments_lexer": "ipython3",
   "version": "3.10.9"
  }
 },
 "nbformat": 4,
 "nbformat_minor": 2
}
